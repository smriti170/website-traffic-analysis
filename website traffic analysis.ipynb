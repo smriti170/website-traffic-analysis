{
 "cells": [
  {
   "cell_type": "code",
   "execution_count": null,
   "metadata": {},
   "outputs": [],
   "source": [
    "import pandas as pd\n",
    "from google.analytics.data_v1beta import BetaAnalyticsDataClient\n",
    "from google.analytics.data_v1beta.types import DateRange, Dimension, Metric, RunReportRequest\n",
    "\n",
    "# Retrieve data from Google Analytics\n",
    "def get_ga_data(property_id, start_date, end_date):\n",
    "    client = BetaAnalyticsDataClient()\n",
    "    request = RunReportRequest(\n",
    "        property=f\"properties/{property_id}\",\n",
    "        dimensions=[Dimension(name=\"date\"), Dimension(name=\"pageTitle\"), Dimension(name=\"sourceMedium\")],\n",
    "        metrics=[Metric(name=\"sessions\"), Metric(name=\"bounceRate\"), Metric(name=\"averageSessionDuration\")],\n",
    "        date_ranges=[DateRange(start_date=start_date, end_date=end_date)],\n",
    "    )\n",
    "    report = client.run_report(request)\n",
    "    return [row.to_dict() for row in report.rows]\n",
    "\n",
    "# Analyze website traffic data\n",
    "def analyze_traffic(data):\n",
    "    df = pd.DataFrame(data)\n",
    "    \n",
    "    # Calculate metrics\n",
    "    df[\"bounceRate\"] = df[\"bounceRate\"].astype(float)\n",
    "    df[\"averageSessionDuration\"] = df[\"averageSessionDuration\"].astype(float)\n",
    "    \n",
    "    # Group by page title and source/medium\n",
    "    page_stats = (\n",
    "        df.groupby([\"pageTitle\", \"sourceMedium\"])\n",
    "        .agg({\"sessions\": \"sum\", \"bounceRate\": \"mean\", \"averageSessionDuration\": \"mean\"})\n",
    "        .reset_index()\n",
    "    )\n",
    "    \n",
    "    # Calculate page-level metrics\n",
    "    page_stats[\"pageviews_per_session\"] = page_stats[\"sessions\"] / df[\"sessions\"].sum()\n",
    "    page_stats[\"avg_session_duration_diff\"] = page_stats[\"averageSessionDuration\"] - df[\"averageSessionDuration\"].mean()\n",
    "    \n",
    "    return page_stats\n",
    "\n",
    "# Example usage\n",
    "property_id = \"123456789\"\n",
    "start_date = \"2023-01-01\"\n",
    "end_date = \"2023-12-31\"\n",
    "data = get_ga_data(property_id, start_date, end_date)\n",
    "page_stats = analyze_traffic(data)\n",
    "print(page_stats)"
   ]
  }
 ],
 "metadata": {
  "language_info": {
   "name": "python"
  }
 },
 "nbformat": 4,
 "nbformat_minor": 2
}
